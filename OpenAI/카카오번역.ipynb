{
 "metadata": {
  "language_info": {
   "codemirror_mode": {
    "name": "ipython",
    "version": 3
   },
   "file_extension": ".py",
   "mimetype": "text/x-python",
   "name": "python",
   "nbconvert_exporter": "python",
   "pygments_lexer": "ipython3",
   "version": "3.8.8"
  },
  "orig_nbformat": 4,
  "kernelspec": {
   "name": "python3",
   "display_name": "Python 3.8.8 64-bit ('base': conda)"
  },
  "interpreter": {
   "hash": "c81169c30fb96244cfba0db287a0d3fd5325268de070a7a6116eecd4596df902"
  }
 },
 "nbformat": 4,
 "nbformat_minor": 2,
 "cells": [
  {
   "source": [
    "# 카카오 번역기"
   ],
   "cell_type": "markdown",
   "metadata": {}
  },
  {
   "cell_type": "code",
   "execution_count": 1,
   "metadata": {},
   "outputs": [],
   "source": [
    "import requests\n",
    "from urllib.parse import quote"
   ]
  },
  {
   "cell_type": "code",
   "execution_count": 2,
   "metadata": {},
   "outputs": [],
   "source": [
    "with open(\"kakaoapi.txt\", mode = 'r') as key_file:\n",
    "    kakao_key = key_file.read()"
   ]
  },
  {
   "source": [
    "### 한글 -> 영어"
   ],
   "cell_type": "markdown",
   "metadata": {}
  },
  {
   "cell_type": "code",
   "execution_count": 3,
   "metadata": {},
   "outputs": [],
   "source": [
    "text = '번역요청한 문장을 다양한 언어로 번역하는 API로써 입력된 텍스트를 기반으로 번역 텍스트 결과를 전달합니다.'"
   ]
  },
  {
   "cell_type": "code",
   "execution_count": 4,
   "metadata": {},
   "outputs": [
    {
     "output_type": "execute_result",
     "data": {
      "text/plain": [
       "'https://dapi.kakao.com/v2/translation/translate?src_lang=kr&target_lang=en&query=%EB%B2%88%EC%97%AD%EC%9A%94%EC%B2%AD%ED%95%9C%20%EB%AC%B8%EC%9E%A5%EC%9D%84%20%EB%8B%A4%EC%96%91%ED%95%9C%20%EC%96%B8%EC%96%B4%EB%A1%9C%20%EB%B2%88%EC%97%AD%ED%95%98%EB%8A%94%20API%EB%A1%9C%EC%8D%A8%20%EC%9E%85%EB%A0%A5%EB%90%9C%20%ED%85%8D%EC%8A%A4%ED%8A%B8%EB%A5%BC%20%EA%B8%B0%EB%B0%98%EC%9C%BC%EB%A1%9C%20%EB%B2%88%EC%97%AD%20%ED%85%8D%EC%8A%A4%ED%8A%B8%20%EA%B2%B0%EA%B3%BC%EB%A5%BC%20%EC%A0%84%EB%8B%AC%ED%95%A9%EB%8B%88%EB%8B%A4.'"
      ]
     },
     "metadata": {},
     "execution_count": 4
    }
   ],
   "source": [
    "trans_url = 'https://dapi.kakao.com/v2/translation/translate'\n",
    "url = f'{trans_url}?src_lang=kr&target_lang=en&query={quote(text)}'\n",
    "url"
   ]
  },
  {
   "cell_type": "code",
   "execution_count": 5,
   "metadata": {},
   "outputs": [
    {
     "output_type": "execute_result",
     "data": {
      "text/plain": [
       "{'translated_text': [['Translational text results based on text entered as an API that translates the sentence requested for translation into various languages.']]}"
      ]
     },
     "metadata": {},
     "execution_count": 5
    }
   ],
   "source": [
    "# \"Authorization: KakaoAK {REST_API_KEY}\"\n",
    "result = requests.get(url, \n",
    "            headers={\"Authorization\": f\"KakaoAK {kakao_key}\"}).json()\n",
    "result"
   ]
  },
  {
   "cell_type": "code",
   "execution_count": 6,
   "metadata": {},
   "outputs": [
    {
     "output_type": "stream",
     "name": "stdout",
     "text": [
      "번역요청한 문장을 다양한 언어로 번역하는 API로써 입력된 텍스트를 기반으로 번역 텍스트 결과를 전달합니다.\nTranslational text results based on text entered as an API that translates the sentence requested for translation into various languages.\n"
     ]
    }
   ],
   "source": [
    "eng_text = result['translated_text'][0][0]\n",
    "print(text)\n",
    "print(eng_text)"
   ]
  },
  {
   "source": [
    "### URL을 만드는 함수"
   ],
   "cell_type": "markdown",
   "metadata": {}
  },
  {
   "cell_type": "code",
   "execution_count": 8,
   "metadata": {},
   "outputs": [],
   "source": [
    "def generate_url(text, src, dst):\n",
    "    trans_url = 'https://dapi.kakao.com/v2/translation/translate'\n",
    "    url = f'{trans_url}?src_lang={src}&target_lang={dst}&query={quote(text)}'\n",
    "    return url"
   ]
  },
  {
   "source": [
    "### 영어 -> 한글"
   ],
   "cell_type": "markdown",
   "metadata": {}
  },
  {
   "cell_type": "code",
   "execution_count": 10,
   "metadata": {},
   "outputs": [
    {
     "output_type": "execute_result",
     "data": {
      "text/plain": [
       "{'translated_text': [['번역 요청된 문장을 다양한 언어로 번역하는 API로 입력된 텍스트를 기반으로한 번역 텍스트 결과.']]}"
      ]
     },
     "metadata": {},
     "execution_count": 10
    }
   ],
   "source": [
    "result = requests.get(generate_url(eng_text, 'en', 'kr'), \n",
    "            headers={\"Authorization\": f\"KakaoAK {kakao_key}\"}).json()\n",
    "result"
   ]
  },
  {
   "cell_type": "code",
   "execution_count": 11,
   "metadata": {},
   "outputs": [
    {
     "output_type": "stream",
     "name": "stdout",
     "text": [
      "번역요청한 문장을 다양한 언어로 번역하는 API로써 입력된 텍스트를 기반으로 번역 텍스트 결과를 전달합니다.\n번역 요청된 문장을 다양한 언어로 번역하는 API로 입력된 텍스트를 기반으로한 번역 텍스트 결과.\n"
     ]
    }
   ],
   "source": [
    "kor_text = result['translated_text'][0][0]\n",
    "print(text)\n",
    "print(kor_text)"
   ]
  },
  {
   "source": [
    "### 한글 여러문장 -> 영어, 프랑스어"
   ],
   "cell_type": "markdown",
   "metadata": {}
  },
  {
   "cell_type": "code",
   "execution_count": 14,
   "metadata": {},
   "outputs": [],
   "source": [
    "multi_text = \"\"\"\n",
    "난 사람의 관상만 보았지, 시대를 보진 못했소.\n",
    "헌데, 관상가 양반! 생각해보니 영 이상하구만.\n",
    "나는 이미 왕이 되었는데 나보고 왕이 될 상이라니... \n",
    "이거 순 엉터리 아닌가.\n",
    "어찌 내가 왕이 될 상인가?\n",
    "\"\"\""
   ]
  },
  {
   "cell_type": "code",
   "execution_count": 15,
   "metadata": {},
   "outputs": [
    {
     "output_type": "execute_result",
     "data": {
      "text/plain": [
       "{'translated_text': [['I only saw the human view, not the times.'],\n",
       "  [\"But, you're a contemporary man! I think it's weird.\"],\n",
       "  [\"I've already become king, and I'm going to be king.\"],\n",
       "  ['This is a mess.'],\n",
       "  ['How could I be king?']]}"
      ]
     },
     "metadata": {},
     "execution_count": 15
    }
   ],
   "source": [
    "result = requests.get(generate_url(multi_text, 'kr', 'en'), \n",
    "            headers={\"Authorization\": f\"KakaoAK {kakao_key}\"}).json()\n",
    "result"
   ]
  },
  {
   "cell_type": "code",
   "execution_count": 16,
   "metadata": {},
   "outputs": [
    {
     "output_type": "stream",
     "name": "stdout",
     "text": [
      "I only saw the human view, not the times.\nBut, you're a contemporary man! I think it's weird.\nI've already become king, and I'm going to be king.\nThis is a mess.\nHow could I be king?\n"
     ]
    }
   ],
   "source": [
    "for line in result['translated_text']:\n",
    "    print(line[0])"
   ]
  },
  {
   "cell_type": "code",
   "execution_count": 17,
   "metadata": {},
   "outputs": [
    {
     "output_type": "stream",
     "name": "stdout",
     "text": [
      "I only saw the human view, not the times.\nBut, you're a contemporary man! I think it's weird.\nI've already become king, and I'm going to be king.\nThis is a mess.\nHow could I be king?\n"
     ]
    }
   ],
   "source": [
    "tr_text = '\\n'.join([line[0] for line in result['translated_text']])\n",
    "print(tr_text)"
   ]
  },
  {
   "cell_type": "code",
   "execution_count": 18,
   "metadata": {},
   "outputs": [
    {
     "output_type": "stream",
     "name": "stdout",
     "text": [
      "Je n'ai vu que les gens, pas les temps.\nMais, mon cher, mon cher, c'est bizarre.\nJe suis déjà devenu roi, et je suis le prix du roi.\nC'est un vrai problème.\nComment suis-je un marchand qui sera roi?\n"
     ]
    }
   ],
   "source": [
    "result = requests.get(generate_url(multi_text, 'kr', 'fr'), \n",
    "            headers={\"Authorization\": f\"KakaoAK {kakao_key}\"}).json()\n",
    "tr_text = '\\n'.join([line[0] for line in result['translated_text']])\n",
    "print(tr_text)"
   ]
  },
  {
   "cell_type": "code",
   "execution_count": null,
   "metadata": {},
   "outputs": [],
   "source": []
  }
 ]
}