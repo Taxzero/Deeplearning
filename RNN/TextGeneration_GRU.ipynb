{
 "metadata": {
  "language_info": {
   "codemirror_mode": {
    "name": "ipython",
    "version": 3
   },
   "file_extension": ".py",
   "mimetype": "text/x-python",
   "name": "python",
   "nbconvert_exporter": "python",
   "pygments_lexer": "ipython3",
   "version": "3.8.10"
  },
  "orig_nbformat": 4,
  "kernelspec": {
   "name": "python3",
   "display_name": "Python 3.8.10 64-bit ('base': conda)"
  },
  "interpreter": {
   "hash": "c81169c30fb96244cfba0db287a0d3fd5325268de070a7a6116eecd4596df902"
  }
 },
 "nbformat": 4,
 "nbformat_minor": 2,
 "cells": [
  {
   "source": [
    "# LSTM을 이용한 텍스트 생성\n",
    "- 데이터 다운로드: 캐글 New York Times Comments\n",
    "- ArticlesApril2018.csv"
   ],
   "cell_type": "markdown",
   "metadata": {}
  },
  {
   "cell_type": "code",
   "execution_count": 1,
   "metadata": {},
   "outputs": [],
   "source": [
    "import numpy as np \n",
    "import tensorflow as tf\n",
    "seed=2021\n",
    "np.random.seed(seed)\n",
    "tf.random.set_seed(seed)"
   ]
  },
  {
   "cell_type": "code",
   "execution_count": 2,
   "metadata": {},
   "outputs": [],
   "source": [
    "from tensorflow.keras.preprocessing.text import Tokenizer\n",
    "from tensorflow.keras.preprocessing.sequence import pad_sequences\n",
    "from tensorflow.keras.utils import to_categorical"
   ]
  },
  {
   "cell_type": "code",
   "execution_count": 3,
   "metadata": {},
   "outputs": [
    {
     "output_type": "execute_result",
     "data": {
      "text/plain": [
       "                  articleID  articleWordCount            byline documentType  \\\n",
       "0  5adf6684068401528a2aa69b               781    By JOHN BRANCH      article   \n",
       "1  5adf653f068401528a2aa697               656  By LISA FRIEDMAN      article   \n",
       "2  5adf4626068401528a2aa628              2427     By PETE WELLS      article   \n",
       "\n",
       "                                            headline  \\\n",
       "0  Former N.F.L. Cheerleadersâ Settlement Offer...   \n",
       "1  E.P.A. to Unveil a New Rule. Its Effect: Less ...   \n",
       "2                            The New Noma, Explained   \n",
       "\n",
       "                                            keywords  multimedia  newDesk  \\\n",
       "0  ['Workplace Hazards and Violations', 'Football...          68   Sports   \n",
       "1  ['Environmental Protection Agency', 'Pruitt, S...          68  Climate   \n",
       "2  ['Restaurants', 'Noma (Copenhagen, Restaurant)...          66   Dining   \n",
       "\n",
       "   printPage              pubDate   sectionName  \\\n",
       "0          0  2018-04-24 17:16:49  Pro Football   \n",
       "1          0  2018-04-24 17:11:21       Unknown   \n",
       "2          0  2018-04-24 14:58:44       Unknown   \n",
       "\n",
       "                                             snippet              source  \\\n",
       "0  âI understand that they could meet with us, ...  The New York Times   \n",
       "1  The agency plans to publish a new regulation T...  The New York Times   \n",
       "2  Whatâs it like to eat at the second incarnat...  The New York Times   \n",
       "\n",
       "  typeOfMaterial                                             webURL  \n",
       "0           News  https://www.nytimes.com/2018/04/24/sports/foot...  \n",
       "1           News  https://www.nytimes.com/2018/04/24/climate/epa...  \n",
       "2           News  https://www.nytimes.com/2018/04/24/dining/noma...  "
      ],
      "text/html": "<div>\n<style scoped>\n    .dataframe tbody tr th:only-of-type {\n        vertical-align: middle;\n    }\n\n    .dataframe tbody tr th {\n        vertical-align: top;\n    }\n\n    .dataframe thead th {\n        text-align: right;\n    }\n</style>\n<table border=\"1\" class=\"dataframe\">\n  <thead>\n    <tr style=\"text-align: right;\">\n      <th></th>\n      <th>articleID</th>\n      <th>articleWordCount</th>\n      <th>byline</th>\n      <th>documentType</th>\n      <th>headline</th>\n      <th>keywords</th>\n      <th>multimedia</th>\n      <th>newDesk</th>\n      <th>printPage</th>\n      <th>pubDate</th>\n      <th>sectionName</th>\n      <th>snippet</th>\n      <th>source</th>\n      <th>typeOfMaterial</th>\n      <th>webURL</th>\n    </tr>\n  </thead>\n  <tbody>\n    <tr>\n      <th>0</th>\n      <td>5adf6684068401528a2aa69b</td>\n      <td>781</td>\n      <td>By JOHN BRANCH</td>\n      <td>article</td>\n      <td>Former N.F.L. Cheerleadersâ Settlement Offer...</td>\n      <td>['Workplace Hazards and Violations', 'Football...</td>\n      <td>68</td>\n      <td>Sports</td>\n      <td>0</td>\n      <td>2018-04-24 17:16:49</td>\n      <td>Pro Football</td>\n      <td>âI understand that they could meet with us, ...</td>\n      <td>The New York Times</td>\n      <td>News</td>\n      <td>https://www.nytimes.com/2018/04/24/sports/foot...</td>\n    </tr>\n    <tr>\n      <th>1</th>\n      <td>5adf653f068401528a2aa697</td>\n      <td>656</td>\n      <td>By LISA FRIEDMAN</td>\n      <td>article</td>\n      <td>E.P.A. to Unveil a New Rule. Its Effect: Less ...</td>\n      <td>['Environmental Protection Agency', 'Pruitt, S...</td>\n      <td>68</td>\n      <td>Climate</td>\n      <td>0</td>\n      <td>2018-04-24 17:11:21</td>\n      <td>Unknown</td>\n      <td>The agency plans to publish a new regulation T...</td>\n      <td>The New York Times</td>\n      <td>News</td>\n      <td>https://www.nytimes.com/2018/04/24/climate/epa...</td>\n    </tr>\n    <tr>\n      <th>2</th>\n      <td>5adf4626068401528a2aa628</td>\n      <td>2427</td>\n      <td>By PETE WELLS</td>\n      <td>article</td>\n      <td>The New Noma, Explained</td>\n      <td>['Restaurants', 'Noma (Copenhagen, Restaurant)...</td>\n      <td>66</td>\n      <td>Dining</td>\n      <td>0</td>\n      <td>2018-04-24 14:58:44</td>\n      <td>Unknown</td>\n      <td>Whatâs it like to eat at the second incarnat...</td>\n      <td>The New York Times</td>\n      <td>News</td>\n      <td>https://www.nytimes.com/2018/04/24/dining/noma...</td>\n    </tr>\n  </tbody>\n</table>\n</div>"
     },
     "metadata": {},
     "execution_count": 3
    }
   ],
   "source": [
    "import pandas as pd\n",
    "df = pd.read_csv('ArticlesApril2018.csv', encoding='latin1')\n",
    "df.head(3)"
   ]
  },
  {
   "source": [
    "### 데이터 전처리"
   ],
   "cell_type": "markdown",
   "metadata": {}
  },
  {
   "cell_type": "code",
   "execution_count": 4,
   "metadata": {},
   "outputs": [
    {
     "output_type": "execute_result",
     "data": {
      "text/plain": [
       "Index(['articleID', 'articleWordCount', 'byline', 'documentType', 'headline',\n",
       "       'keywords', 'multimedia', 'newDesk', 'printPage', 'pubDate',\n",
       "       'sectionName', 'snippet', 'source', 'typeOfMaterial', 'webURL'],\n",
       "      dtype='object')"
      ]
     },
     "metadata": {},
     "execution_count": 4
    }
   ],
   "source": [
    "df.columns"
   ]
  },
  {
   "cell_type": "code",
   "execution_count": 5,
   "metadata": {},
   "outputs": [
    {
     "output_type": "execute_result",
     "data": {
      "text/plain": [
       "0"
      ]
     },
     "metadata": {},
     "execution_count": 5
    }
   ],
   "source": [
    "# headline 열 데이터만 사용, Null 검사\n",
    "df.headline.isnull().sum()"
   ]
  },
  {
   "cell_type": "code",
   "execution_count": 6,
   "metadata": {},
   "outputs": [
    {
     "output_type": "execute_result",
     "data": {
      "text/plain": [
       "1324"
      ]
     },
     "metadata": {},
     "execution_count": 6
    }
   ],
   "source": [
    "headlines = [text for text in df.headline.values]\n",
    "len(headlines)"
   ]
  },
  {
   "cell_type": "code",
   "execution_count": 7,
   "metadata": {},
   "outputs": [
    {
     "output_type": "execute_result",
     "data": {
      "text/plain": [
       "['Former N.F.L. Cheerleadersâ\\x80\\x99 Settlement Offer: $1 and a Meeting With Goodell',\n",
       " 'E.P.A. to Unveil a New Rule. Its Effect: Less Science in Policymaking.',\n",
       " 'The New Noma, Explained',\n",
       " 'Unknown',\n",
       " 'Unknown']"
      ]
     },
     "metadata": {},
     "execution_count": 7
    }
   ],
   "source": [
    "headlines[:5]"
   ]
  },
  {
   "cell_type": "code",
   "execution_count": 8,
   "metadata": {},
   "outputs": [
    {
     "output_type": "execute_result",
     "data": {
      "text/plain": [
       "1214"
      ]
     },
     "metadata": {},
     "execution_count": 8
    }
   ],
   "source": [
    "# 노이즈 데이터('Unknown') 제거\n",
    "headlines = [text for text in headlines if text != 'Unknown']\n",
    "len(headlines)"
   ]
  },
  {
   "cell_type": "code",
   "execution_count": 9,
   "metadata": {},
   "outputs": [
    {
     "output_type": "execute_result",
     "data": {
      "text/plain": [
       "'!\"#$%&\\'()*+,-./:;<=>?@[\\\\]^_`{|}~'"
      ]
     },
     "metadata": {},
     "execution_count": 9
    }
   ],
   "source": [
    "# 구둣점 제거, 소문자로 변환\n",
    "from string import punctuation\n",
    "punctuation"
   ]
  },
  {
   "cell_type": "code",
   "execution_count": 10,
   "metadata": {},
   "outputs": [],
   "source": [
    "def preprocessing(s):\n",
    "    s = s.encode('utf8').decode('ascii', 'ignore')\n",
    "    return ''.join(c for c in s if c not in punctuation).lower()"
   ]
  },
  {
   "cell_type": "code",
   "execution_count": 11,
   "metadata": {},
   "outputs": [
    {
     "output_type": "execute_result",
     "data": {
      "text/plain": [
       "['former nfl cheerleaders settlement offer 1 and a meeting with goodell',\n",
       " 'epa to unveil a new rule its effect less science in policymaking',\n",
       " 'the new noma explained']"
      ]
     },
     "metadata": {},
     "execution_count": 11
    }
   ],
   "source": [
    "headlines = [preprocessing(s) for s in headlines]\n",
    "headlines[:3]"
   ]
  },
  {
   "cell_type": "code",
   "execution_count": 12,
   "metadata": {},
   "outputs": [
    {
     "output_type": "execute_result",
     "data": {
      "text/plain": [
       "3494"
      ]
     },
     "metadata": {},
     "execution_count": 12
    }
   ],
   "source": [
    "# 단어 집합을 만들고, 그 크기를 확인\n",
    "t = Tokenizer()\n",
    "t.fit_on_texts(headlines)\n",
    "vocab_size = len(t.word_index) + 1\n",
    "vocab_size"
   ]
  },
  {
   "cell_type": "code",
   "execution_count": 13,
   "metadata": {},
   "outputs": [
    {
     "output_type": "execute_result",
     "data": {
      "text/plain": [
       "[[99, 269],\n",
       " [99, 269, 371],\n",
       " [99, 269, 371, 1115],\n",
       " [99, 269, 371, 1115, 582],\n",
       " [99, 269, 371, 1115, 582, 52],\n",
       " [99, 269, 371, 1115, 582, 52, 7],\n",
       " [99, 269, 371, 1115, 582, 52, 7, 2],\n",
       " [99, 269, 371, 1115, 582, 52, 7, 2, 372],\n",
       " [99, 269, 371, 1115, 582, 52, 7, 2, 372, 10],\n",
       " [99, 269, 371, 1115, 582, 52, 7, 2, 372, 10, 1116],\n",
       " [100, 3]]"
      ]
     },
     "metadata": {},
     "execution_count": 13
    }
   ],
   "source": [
    "# 학습에 사용될 샘플 시퀀스\n",
    "sequences = []\n",
    "for line in headlines:\n",
    "    encoded = t.texts_to_sequences([line])[0]\n",
    "    for i in range(1, len(encoded)):\n",
    "        sequence = encoded[:i+1]\n",
    "        sequences.append(sequence)\n",
    "sequences[:11]"
   ]
  },
  {
   "cell_type": "code",
   "execution_count": 14,
   "metadata": {},
   "outputs": [
    {
     "output_type": "execute_result",
     "data": {
      "text/plain": [
       "24"
      ]
     },
     "metadata": {},
     "execution_count": 14
    }
   ],
   "source": [
    "max_len = max(len(s) for s in sequences)\n",
    "max_len"
   ]
  },
  {
   "cell_type": "code",
   "execution_count": 15,
   "metadata": {},
   "outputs": [
    {
     "output_type": "execute_result",
     "data": {
      "text/plain": [
       "array([[   0,    0,    0,    0,    0,    0,    0,    0,    0,    0,    0,\n",
       "           0,    0,    0,    0,    0,    0,    0,    0,    0,    0,    0,\n",
       "          99,  269],\n",
       "       [   0,    0,    0,    0,    0,    0,    0,    0,    0,    0,    0,\n",
       "           0,    0,    0,    0,    0,    0,    0,    0,    0,    0,   99,\n",
       "         269,  371],\n",
       "       [   0,    0,    0,    0,    0,    0,    0,    0,    0,    0,    0,\n",
       "           0,    0,    0,    0,    0,    0,    0,    0,    0,   99,  269,\n",
       "         371, 1115]])"
      ]
     },
     "metadata": {},
     "execution_count": 15
    }
   ],
   "source": [
    "sequences = pad_sequences(sequences, maxlen=max_len, padding='pre')\n",
    "sequences[:3]"
   ]
  },
  {
   "cell_type": "code",
   "execution_count": 16,
   "metadata": {},
   "outputs": [
    {
     "output_type": "execute_result",
     "data": {
      "text/plain": [
       "((7803, 23), (7803, 3494))"
      ]
     },
     "metadata": {},
     "execution_count": 16
    }
   ],
   "source": [
    "X = sequences[:,:-1]\n",
    "y = sequences[:,-1]\n",
    "Y = to_categorical(y)\n",
    "X.shape, Y.shape"
   ]
  },
  {
   "source": [
    "### 모델 정의/설정/학습\n",
    "- Embedding\n",
    "- LSTM"
   ],
   "cell_type": "markdown",
   "metadata": {}
  },
  {
   "cell_type": "code",
   "execution_count": 17,
   "metadata": {},
   "outputs": [],
   "source": [
    "from tensorflow.keras.models import Sequential\n",
    "from tensorflow.keras.layers import Embedding, GRU, Dense"
   ]
  },
  {
   "cell_type": "code",
   "execution_count": 18,
   "metadata": {},
   "outputs": [
    {
     "output_type": "stream",
     "name": "stdout",
     "text": [
      "Model: \"sequential\"\n_________________________________________________________________\nLayer (type)                 Output Shape              Param #   \n=================================================================\nembedding (Embedding)        (None, 23, 10)            34940     \n_________________________________________________________________\ngru (GRU)                    (None, 128)               53760     \n_________________________________________________________________\ndense (Dense)                (None, 3494)              450726    \n=================================================================\nTotal params: 539,426\nTrainable params: 539,426\nNon-trainable params: 0\n_________________________________________________________________\n"
     ]
    }
   ],
   "source": [
    "# 임베딩 벡터 10차원, GRU 노드 크기 128\n",
    "model = Sequential([ \n",
    "    Embedding(vocab_size, 10, input_length=max_len-1),\n",
    "    GRU(128),\n",
    "    Dense(vocab_size, activation='softmax')\n",
    "])\n",
    "model.summary()"
   ]
  },
  {
   "cell_type": "code",
   "execution_count": 19,
   "metadata": {},
   "outputs": [],
   "source": [
    "model.compile(\n",
    "    optimizer='adam', loss='categorical_crossentropy', metrics=['accuracy']\n",
    ")"
   ]
  },
  {
   "cell_type": "code",
   "execution_count": 20,
   "metadata": {},
   "outputs": [
    {
     "output_type": "stream",
     "name": "stdout",
     "text": [
      "Wall time: 13min 18s\n"
     ]
    }
   ],
   "source": [
    "%time history = model.fit(X, Y, epochs=200, verbose=0)"
   ]
  },
  {
   "source": [
    "### 모델 검증"
   ],
   "cell_type": "markdown",
   "metadata": {}
  },
  {
   "cell_type": "code",
   "execution_count": 21,
   "metadata": {},
   "outputs": [],
   "source": [
    "from my_util import sentence_generation"
   ]
  },
  {
   "cell_type": "code",
   "execution_count": 22,
   "metadata": {},
   "outputs": [
    {
     "output_type": "stream",
     "name": "stdout",
     "text": [
      "i want to be rich and im not sorry scientists to\n",
      "epa sheriff indulged pruitt as security spending mounted later a fear\n",
      "former nfl cheerleaders settlement offer 1 and a meeting with goodell\n"
     ]
    }
   ],
   "source": [
    "print(sentence_generation(model, t, max_len, 'i', 10))\n",
    "print(sentence_generation(model, t, max_len, 'epa', 10))\n",
    "print(sentence_generation(model, t, max_len, 'former', 10))"
   ]
  },
  {
   "cell_type": "code",
   "execution_count": null,
   "metadata": {},
   "outputs": [],
   "source": []
  }
 ]
}