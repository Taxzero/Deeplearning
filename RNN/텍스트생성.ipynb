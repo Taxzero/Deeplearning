{
 "metadata": {
  "language_info": {
   "codemirror_mode": {
    "name": "ipython",
    "version": 3
   },
   "file_extension": ".py",
   "mimetype": "text/x-python",
   "name": "python",
   "nbconvert_exporter": "python",
   "pygments_lexer": "ipython3",
   "version": "3.8.10"
  },
  "orig_nbformat": 4,
  "kernelspec": {
   "name": "python3",
   "display_name": "Python 3.8.10 64-bit ('base': conda)"
  },
  "interpreter": {
   "hash": "c81169c30fb96244cfba0db287a0d3fd5325268de070a7a6116eecd4596df902"
  }
 },
 "nbformat": 4,
 "nbformat_minor": 2,
 "cells": [
  {
   "source": [
    "# RNN을 이용한 텍스트 생성\n",
    "- '경마장에 있는 말이 뛰고 있다'\n",
    "- '그의 말이 법이다'\n",
    "- '가는 말이 고와야 오는 말이 곱다'"
   ],
   "cell_type": "markdown",
   "metadata": {}
  },
  {
   "cell_type": "code",
   "execution_count": 26,
   "metadata": {},
   "outputs": [],
   "source": [
    "import numpy as np \n",
    "import tensorflow as tf\n",
    "seed = 2021\n",
    "np.random.seed(seed)\n",
    "tf.random.set_seed(seed)"
   ]
  },
  {
   "cell_type": "code",
   "execution_count": 27,
   "metadata": {},
   "outputs": [],
   "source": [
    "\n",
    "text = '''경마장에 있는 말이 뛰고 있다\\n\n",
    "그의 말이 법이다\\n\n",
    "가는 말이 고와야 오는 말이 곱다\\n'''"
   ]
  },
  {
   "source": [
    "### 텍스트 전처리"
   ],
   "cell_type": "markdown",
   "metadata": {}
  },
  {
   "cell_type": "code",
   "execution_count": 28,
   "metadata": {},
   "outputs": [],
   "source": [
    "from tensorflow.keras.preprocessing.text import Tokenizer\n",
    "from tensorflow.keras.preprocessing.sequence import pad_sequences\n",
    "from tensorflow.keras.utils import to_categorical"
   ]
  },
  {
   "cell_type": "code",
   "execution_count": 29,
   "metadata": {},
   "outputs": [],
   "source": [
    "# 단어 집합 생성\n",
    "t = Tokenizer()\n",
    "t.fit_on_texts([text])"
   ]
  },
  {
   "cell_type": "code",
   "execution_count": 30,
   "metadata": {},
   "outputs": [
    {
     "output_type": "execute_result",
     "data": {
      "text/plain": [
       "{'말이': 1,\n",
       " '경마장에': 2,\n",
       " '있는': 3,\n",
       " '뛰고': 4,\n",
       " '있다': 5,\n",
       " '그의': 6,\n",
       " '법이다': 7,\n",
       " '가는': 8,\n",
       " '고와야': 9,\n",
       " '오는': 10,\n",
       " '곱다': 11}"
      ]
     },
     "metadata": {},
     "execution_count": 30
    }
   ],
   "source": [
    "t.word_index"
   ]
  },
  {
   "cell_type": "code",
   "execution_count": 31,
   "metadata": {},
   "outputs": [
    {
     "output_type": "execute_result",
     "data": {
      "text/plain": [
       "12"
      ]
     },
     "metadata": {},
     "execution_count": 31
    }
   ],
   "source": [
    "# 단어 집합 크기 - Keras Tokenizer의 시작 인덱스가 1이기 때문\n",
    "vocab_size = len(t.word_index) + 1\n",
    "vocab_size"
   ]
  },
  {
   "cell_type": "code",
   "execution_count": 32,
   "metadata": {},
   "outputs": [
    {
     "output_type": "execute_result",
     "data": {
      "text/plain": [
       "[[6, 1, 7]]"
      ]
     },
     "metadata": {},
     "execution_count": 32
    }
   ],
   "source": [
    "t.texts_to_sequences(['그의 말이 법이다'])"
   ]
  },
  {
   "cell_type": "code",
   "execution_count": 33,
   "metadata": {},
   "outputs": [
    {
     "output_type": "execute_result",
     "data": {
      "text/plain": [
       "[[2, 3],\n",
       " [2, 3, 1],\n",
       " [2, 3, 1, 4],\n",
       " [2, 3, 1, 4, 5],\n",
       " [6, 1],\n",
       " [6, 1, 7],\n",
       " [8, 1],\n",
       " [8, 1, 9],\n",
       " [8, 1, 9, 10],\n",
       " [8, 1, 9, 10, 1],\n",
       " [8, 1, 9, 10, 1, 11]]"
      ]
     },
     "metadata": {},
     "execution_count": 33
    }
   ],
   "source": [
    "# 학습에 사용될 샘플 시퀀스\n",
    "sequences = []\n",
    "for line in text.split('\\n'):\n",
    "    encoded = t.texts_to_sequences([line])[0]\n",
    "    for i in range(1, len(encoded)):\n",
    "        sequence = encoded[:i+1]\n",
    "        sequences.append(sequence)\n",
    "sequences"
   ]
  },
  {
   "cell_type": "code",
   "execution_count": 34,
   "metadata": {},
   "outputs": [
    {
     "output_type": "execute_result",
     "data": {
      "text/plain": [
       "6"
      ]
     },
     "metadata": {},
     "execution_count": 34
    }
   ],
   "source": [
    "max_len = max(len(s) for s in sequences)\n",
    "max_len"
   ]
  },
  {
   "source": [
    "### Padding\n",
    "- 전체 샘플의 길이를 가장 긴 샘플의 길이(6)로 패딩\n",
    "-'pre' 옵션을 주면 앞을 0으로 채움"
   ],
   "cell_type": "markdown",
   "metadata": {}
  },
  {
   "cell_type": "code",
   "execution_count": 35,
   "metadata": {},
   "outputs": [
    {
     "output_type": "execute_result",
     "data": {
      "text/plain": [
       "array([[0, 0, 0, 0, 2, 3],\n",
       "       [0, 0, 0, 2, 3, 1],\n",
       "       [0, 0, 2, 3, 1, 4],\n",
       "       [0, 2, 3, 1, 4, 5],\n",
       "       [0, 0, 0, 0, 6, 1]])"
      ]
     },
     "metadata": {},
     "execution_count": 35
    }
   ],
   "source": [
    "sequences = pad_sequences(sequences, maxlen=max_len, padding='pre')\n",
    "sequences[:5]"
   ]
  },
  {
   "cell_type": "code",
   "execution_count": 36,
   "metadata": {},
   "outputs": [],
   "source": [
    "X = sequences[:,:-1]\n",
    "y = sequences[:,-1]"
   ]
  },
  {
   "cell_type": "code",
   "execution_count": 37,
   "metadata": {},
   "outputs": [
    {
     "output_type": "execute_result",
     "data": {
      "text/plain": [
       "array([[0., 0., 0., 1., 0., 0., 0., 0., 0., 0., 0., 0.],\n",
       "       [0., 1., 0., 0., 0., 0., 0., 0., 0., 0., 0., 0.],\n",
       "       [0., 0., 0., 0., 1., 0., 0., 0., 0., 0., 0., 0.]], dtype=float32)"
      ]
     },
     "metadata": {},
     "execution_count": 37
    }
   ],
   "source": [
    "Y = to_categorical(y)       # to_categorical(y, vocab_size)\n",
    "Y[:3]"
   ]
  },
  {
   "source": [
    "### 모델 정의\n",
    "- Embedding\n",
    "- SimpleRNN"
   ],
   "cell_type": "markdown",
   "metadata": {}
  },
  {
   "cell_type": "code",
   "execution_count": 38,
   "metadata": {},
   "outputs": [],
   "source": [
    "from tensorflow.keras.models import Sequential\n",
    "from tensorflow.keras.layers import Embedding, SimpleRNN, Dense"
   ]
  },
  {
   "cell_type": "code",
   "execution_count": 39,
   "metadata": {},
   "outputs": [
    {
     "output_type": "stream",
     "name": "stdout",
     "text": [
      "Model: \"sequential_11\"\n_________________________________________________________________\nLayer (type)                 Output Shape              Param #   \n=================================================================\nembedding_11 (Embedding)     (None, 5, 4)              48        \n_________________________________________________________________\nsimple_rnn_11 (SimpleRNN)    (None, 32)                1184      \n_________________________________________________________________\ndense_11 (Dense)             (None, 12)                396       \n=================================================================\nTotal params: 1,628\nTrainable params: 1,628\nNon-trainable params: 0\n_________________________________________________________________\n"
     ]
    }
   ],
   "source": [
    "# Embedding=4, SimpleRNN=32\n",
    "model = Sequential([\n",
    "    Embedding(vocab_size, 4, input_length=max_len-1),\n",
    "    SimpleRNN(32),\n",
    "    Dense(vocab_size, activation='softmax')\n",
    "])\n",
    "model.summary()"
   ]
  },
  {
   "source": [
    "### 모델 설정/학습"
   ],
   "cell_type": "markdown",
   "metadata": {}
  },
  {
   "cell_type": "code",
   "execution_count": 40,
   "metadata": {},
   "outputs": [],
   "source": [
    "model.compile(\n",
    "    optimizer='adam', loss='categorical_crossentropy', metrics=['accuracy']\n",
    ")"
   ]
  },
  {
   "cell_type": "code",
   "execution_count": 41,
   "metadata": {},
   "outputs": [
    {
     "output_type": "execute_result",
     "data": {
      "text/plain": [
       "0.9090909361839294"
      ]
     },
     "metadata": {},
     "execution_count": 41
    }
   ],
   "source": [
    "history = model.fit(X, Y, epochs=200, verbose=0)\n",
    "history.history['accuracy'][-1]"
   ]
  },
  {
   "source": [
    "### 모델 검증"
   ],
   "cell_type": "markdown",
   "metadata": {}
  },
  {
   "cell_type": "code",
   "execution_count": 42,
   "metadata": {},
   "outputs": [
    {
     "output_type": "execute_result",
     "data": {
      "text/plain": [
       "'경마장에 말이 말이 뛰고'"
      ]
     },
     "metadata": {},
     "execution_count": 42
    }
   ],
   "source": [
    "from my_util import sentence_generation\n",
    "\n",
    "\n",
    "# 모델, 토크나이저, 현재 단어, 반복할 횟수\n",
    "sentence_generation(model, t, max_len,'경마장에', 3)"
   ]
  },
  {
   "source": [
    "### 모델 변화\n",
    "- Embedding vector 갯수: 2, 4, 6\n",
    "- RNN 노드 갯수: 24, 32, 48"
   ],
   "cell_type": "markdown",
   "metadata": {}
  },
  {
   "cell_type": "code",
   "execution_count": 45,
   "metadata": {},
   "outputs": [],
   "source": [
    "def execute_model(n_embed, n_rnn):\n",
    "    model = Sequential([Embedding(vocab_size, n_embed, input_length=max_len-1), SimpleRNN(n_rnn), Dense(vocab_size, activation='softmax')])\n",
    "    model.compile(optimizer='adam', loss='categorical_crossentropy', metrics=['accuracy'])\n",
    "    history = model.fit(X, Y, epochs=200, verbose=0)\n",
    "    \n",
    "    print(f\"정확도: {history.history['accuracy'][-1]:.4f}\")\n",
    "    print(sentence_generation(model, t, max_len, '경마장에', 3))\n",
    "    print(sentence_generation(model, t, max_len, '그의', 2))\n",
    "    print(sentence_generation(model, t, max_len, '가는', 5))"
   ]
  },
  {
   "cell_type": "code",
   "execution_count": 48,
   "metadata": {},
   "outputs": [
    {
     "output_type": "stream",
     "name": "stdout",
     "text": [
      "======================================\n",
      "n_embed=2, n_rnn=24\n",
      "정확도: 0.7273\n",
      "경마장에 말이 말이 뛰고\n",
      "그의 말이 말이\n",
      "가는 말이 고와야 오는 말이 곱다\n",
      "\n",
      "======================================\n",
      "n_embed=2, n_rnn=36\n",
      "정확도: 1.0000\n",
      "경마장에 있는 말이 뛰고\n",
      "그의 말이 법이다\n",
      "가는 말이 고와야 오는 말이 곱다\n",
      "\n",
      "======================================\n",
      "n_embed=2, n_rnn=48\n",
      "정확도: 0.9091\n",
      "경마장에 있는 말이 뛰고\n",
      "그의 말이 법이다\n",
      "가는 말이 고와야 오는 말이 곱다\n",
      "\n",
      "======================================\n",
      "n_embed=4, n_rnn=24\n",
      "정확도: 0.9091\n",
      "경마장에 말이 말이 뛰고\n",
      "그의 말이 법이다\n",
      "가는 말이 고와야 오는 말이 곱다\n",
      "\n",
      "======================================\n",
      "n_embed=4, n_rnn=36\n",
      "정확도: 0.9091\n",
      "경마장에 말이 말이 뛰고\n",
      "그의 말이 법이다\n",
      "가는 말이 고와야 오는 말이 곱다\n",
      "\n",
      "======================================\n",
      "n_embed=4, n_rnn=48\n",
      "정확도: 1.0000\n",
      "경마장에 있는 말이 뛰고\n",
      "그의 말이 법이다\n",
      "가는 말이 고와야 오는 말이 곱다\n",
      "\n",
      "======================================\n",
      "n_embed=6, n_rnn=24\n",
      "정확도: 1.0000\n",
      "경마장에 있는 말이 뛰고\n",
      "그의 말이 법이다\n",
      "가는 말이 고와야 오는 말이 곱다\n",
      "\n",
      "======================================\n",
      "n_embed=6, n_rnn=36\n",
      "정확도: 1.0000\n",
      "경마장에 있는 말이 뛰고\n",
      "그의 말이 법이다\n",
      "가는 말이 고와야 오는 말이 곱다\n",
      "\n",
      "======================================\n",
      "n_embed=6, n_rnn=48\n",
      "정확도: 1.0000\n",
      "경마장에 있는 말이 뛰고\n",
      "그의 말이 법이다\n",
      "가는 말이 고와야 오는 말이 곱다\n",
      "\n"
     ]
    }
   ],
   "source": [
    "for n_embed in [2, 4, 6]:\n",
    "    for n_rnn in [24, 36, 48]:\n",
    "        print('======================================')\n",
    "        print(f'n_embed={n_embed}, n_rnn={n_rnn}')\n",
    "        execute_model(n_embed, n_rnn)\n",
    "        print()"
   ]
  },
  {
   "cell_type": "code",
   "execution_count": null,
   "metadata": {},
   "outputs": [],
   "source": []
  }
 ]
}